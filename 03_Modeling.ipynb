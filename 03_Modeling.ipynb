{
 "cells": [
  {
   "cell_type": "markdown",
   "id": "utility-green",
   "metadata": {},
   "source": [
    "## Modeling Notebook — Deep Learning Techniques"
   ]
  },
  {
   "cell_type": "code",
   "execution_count": 1,
   "id": "talented-episode",
   "metadata": {},
   "outputs": [],
   "source": [
    "import pandas as pd\n",
    "import numpy as np\n",
    "import matplotlib.pyplot as plt\n",
    "import seaborn as sns\n",
    "import pickle\n",
    "\n",
    "\n",
    "\n",
    "from tensorflow.keras.models import Sequential\n",
    "from tensorflow.keras.layers import Dense, Dropout"
   ]
  },
  {
   "cell_type": "code",
   "execution_count": 2,
   "id": "selected-confusion",
   "metadata": {},
   "outputs": [],
   "source": [
    "df = pd.read_pickle('df_res.pkl')\n",
    "df_test = pd.read_pickle('df_test.pkl')"
   ]
  },
  {
   "cell_type": "code",
   "execution_count": 3,
   "id": "verbal-progress",
   "metadata": {},
   "outputs": [
    {
     "name": "stdout",
     "output_type": "stream",
     "text": [
      "(4282, 23)\n"
     ]
    },
    {
     "data": {
      "text/html": [
       "<div>\n",
       "<style scoped>\n",
       "    .dataframe tbody tr th:only-of-type {\n",
       "        vertical-align: middle;\n",
       "    }\n",
       "\n",
       "    .dataframe tbody tr th {\n",
       "        vertical-align: top;\n",
       "    }\n",
       "\n",
       "    .dataframe thead th {\n",
       "        text-align: right;\n",
       "    }\n",
       "</style>\n",
       "<table border=\"1\" class=\"dataframe\">\n",
       "  <thead>\n",
       "    <tr style=\"text-align: right;\">\n",
       "      <th></th>\n",
       "      <th>account length</th>\n",
       "      <th>number vmail messages</th>\n",
       "      <th>total day minutes</th>\n",
       "      <th>total day calls</th>\n",
       "      <th>total eve minutes</th>\n",
       "      <th>total eve calls</th>\n",
       "      <th>total night minutes</th>\n",
       "      <th>total night calls</th>\n",
       "      <th>total intl minutes</th>\n",
       "      <th>total intl calls</th>\n",
       "      <th>...</th>\n",
       "      <th>eve_perc</th>\n",
       "      <th>total_calls</th>\n",
       "      <th>area code_408</th>\n",
       "      <th>area code_415</th>\n",
       "      <th>area code_510</th>\n",
       "      <th>international plan_no</th>\n",
       "      <th>international plan_yes</th>\n",
       "      <th>voice mail plan_no</th>\n",
       "      <th>voice mail plan_yes</th>\n",
       "      <th>churn</th>\n",
       "    </tr>\n",
       "  </thead>\n",
       "  <tbody>\n",
       "    <tr>\n",
       "      <th>0</th>\n",
       "      <td>-2.248868</td>\n",
       "      <td>-0.599061</td>\n",
       "      <td>0.681956</td>\n",
       "      <td>0.822446</td>\n",
       "      <td>-1.643724</td>\n",
       "      <td>1.326353</td>\n",
       "      <td>0.381199</td>\n",
       "      <td>0.506571</td>\n",
       "      <td>-0.154375</td>\n",
       "      <td>-0.212111</td>\n",
       "      <td>...</td>\n",
       "      <td>-1.777989</td>\n",
       "      <td>1.514352</td>\n",
       "      <td>0.0</td>\n",
       "      <td>0.0</td>\n",
       "      <td>1.0</td>\n",
       "      <td>0.0</td>\n",
       "      <td>1.0</td>\n",
       "      <td>1.0</td>\n",
       "      <td>0.0</td>\n",
       "      <td>0</td>\n",
       "    </tr>\n",
       "    <tr>\n",
       "      <th>1</th>\n",
       "      <td>1.087537</td>\n",
       "      <td>-0.599061</td>\n",
       "      <td>-0.849396</td>\n",
       "      <td>0.030807</td>\n",
       "      <td>1.063657</td>\n",
       "      <td>1.377664</td>\n",
       "      <td>0.551703</td>\n",
       "      <td>-1.629834</td>\n",
       "      <td>0.493396</td>\n",
       "      <td>-1.017069</td>\n",
       "      <td>...</td>\n",
       "      <td>0.882205</td>\n",
       "      <td>-0.207048</td>\n",
       "      <td>0.0</td>\n",
       "      <td>1.0</td>\n",
       "      <td>0.0</td>\n",
       "      <td>1.0</td>\n",
       "      <td>0.0</td>\n",
       "      <td>1.0</td>\n",
       "      <td>0.0</td>\n",
       "      <td>0</td>\n",
       "    </tr>\n",
       "    <tr>\n",
       "      <th>2</th>\n",
       "      <td>-1.136733</td>\n",
       "      <td>1.146519</td>\n",
       "      <td>-1.062390</td>\n",
       "      <td>-0.661877</td>\n",
       "      <td>-0.328988</td>\n",
       "      <td>-1.239212</td>\n",
       "      <td>1.305091</td>\n",
       "      <td>-0.103830</td>\n",
       "      <td>0.889256</td>\n",
       "      <td>-0.614590</td>\n",
       "      <td>...</td>\n",
       "      <td>-0.341548</td>\n",
       "      <td>-1.199041</td>\n",
       "      <td>0.0</td>\n",
       "      <td>1.0</td>\n",
       "      <td>0.0</td>\n",
       "      <td>1.0</td>\n",
       "      <td>0.0</td>\n",
       "      <td>0.0</td>\n",
       "      <td>1.0</td>\n",
       "      <td>0</td>\n",
       "    </tr>\n",
       "    <tr>\n",
       "      <th>3</th>\n",
       "      <td>-1.364215</td>\n",
       "      <td>2.092042</td>\n",
       "      <td>-1.225808</td>\n",
       "      <td>2.455201</td>\n",
       "      <td>0.837718</td>\n",
       "      <td>-0.161675</td>\n",
       "      <td>-0.437614</td>\n",
       "      <td>0.608305</td>\n",
       "      <td>1.069192</td>\n",
       "      <td>0.592847</td>\n",
       "      <td>...</td>\n",
       "      <td>1.394637</td>\n",
       "      <td>1.747762</td>\n",
       "      <td>1.0</td>\n",
       "      <td>0.0</td>\n",
       "      <td>0.0</td>\n",
       "      <td>1.0</td>\n",
       "      <td>0.0</td>\n",
       "      <td>0.0</td>\n",
       "      <td>1.0</td>\n",
       "      <td>0</td>\n",
       "    </tr>\n",
       "    <tr>\n",
       "      <th>4</th>\n",
       "      <td>0.531469</td>\n",
       "      <td>2.092042</td>\n",
       "      <td>-0.304059</td>\n",
       "      <td>0.327672</td>\n",
       "      <td>2.179722</td>\n",
       "      <td>0.915862</td>\n",
       "      <td>-0.015321</td>\n",
       "      <td>-0.765099</td>\n",
       "      <td>0.493396</td>\n",
       "      <td>0.190368</td>\n",
       "      <td>...</td>\n",
       "      <td>1.534297</td>\n",
       "      <td>0.288949</td>\n",
       "      <td>0.0</td>\n",
       "      <td>1.0</td>\n",
       "      <td>0.0</td>\n",
       "      <td>1.0</td>\n",
       "      <td>0.0</td>\n",
       "      <td>0.0</td>\n",
       "      <td>1.0</td>\n",
       "      <td>0</td>\n",
       "    </tr>\n",
       "  </tbody>\n",
       "</table>\n",
       "<p>5 rows × 23 columns</p>\n",
       "</div>"
      ],
      "text/plain": [
       "   account length  number vmail messages  total day minutes  total day calls  \\\n",
       "0       -2.248868              -0.599061           0.681956         0.822446   \n",
       "1        1.087537              -0.599061          -0.849396         0.030807   \n",
       "2       -1.136733               1.146519          -1.062390        -0.661877   \n",
       "3       -1.364215               2.092042          -1.225808         2.455201   \n",
       "4        0.531469               2.092042          -0.304059         0.327672   \n",
       "\n",
       "   total eve minutes  total eve calls  total night minutes  total night calls  \\\n",
       "0          -1.643724         1.326353             0.381199           0.506571   \n",
       "1           1.063657         1.377664             0.551703          -1.629834   \n",
       "2          -0.328988        -1.239212             1.305091          -0.103830   \n",
       "3           0.837718        -0.161675            -0.437614           0.608305   \n",
       "4           2.179722         0.915862            -0.015321          -0.765099   \n",
       "\n",
       "   total intl minutes  total intl calls  ...  eve_perc  total_calls  \\\n",
       "0           -0.154375         -0.212111  ... -1.777989     1.514352   \n",
       "1            0.493396         -1.017069  ...  0.882205    -0.207048   \n",
       "2            0.889256         -0.614590  ... -0.341548    -1.199041   \n",
       "3            1.069192          0.592847  ...  1.394637     1.747762   \n",
       "4            0.493396          0.190368  ...  1.534297     0.288949   \n",
       "\n",
       "   area code_408  area code_415  area code_510  international plan_no  \\\n",
       "0            0.0            0.0            1.0                    0.0   \n",
       "1            0.0            1.0            0.0                    1.0   \n",
       "2            0.0            1.0            0.0                    1.0   \n",
       "3            1.0            0.0            0.0                    1.0   \n",
       "4            0.0            1.0            0.0                    1.0   \n",
       "\n",
       "   international plan_yes  voice mail plan_no  voice mail plan_yes  churn  \n",
       "0                     1.0                 1.0                  0.0      0  \n",
       "1                     0.0                 1.0                  0.0      0  \n",
       "2                     0.0                 0.0                  1.0      0  \n",
       "3                     0.0                 0.0                  1.0      0  \n",
       "4                     0.0                 0.0                  1.0      0  \n",
       "\n",
       "[5 rows x 23 columns]"
      ]
     },
     "execution_count": 3,
     "metadata": {},
     "output_type": "execute_result"
    }
   ],
   "source": [
    "print(df.shape)\n",
    "df.head()\n"
   ]
  },
  {
   "cell_type": "code",
   "execution_count": 4,
   "id": "missing-tribute",
   "metadata": {},
   "outputs": [
    {
     "data": {
      "text/plain": [
       "array(['account length', 'number vmail messages', 'total day minutes',\n",
       "       'total day calls', 'total eve minutes', 'total eve calls',\n",
       "       'total night minutes', 'total night calls', 'total intl minutes',\n",
       "       'total intl calls', 'customer service calls', 'total_minutes',\n",
       "       'night_perc', 'eve_perc', 'total_calls', 'area code_408',\n",
       "       'area code_415', 'area code_510', 'international plan_no',\n",
       "       'international plan_yes', 'voice mail plan_no',\n",
       "       'voice mail plan_yes', 'churn'], dtype=object)"
      ]
     },
     "execution_count": 4,
     "metadata": {},
     "output_type": "execute_result"
    }
   ],
   "source": [
    "df.columns.values"
   ]
  },
  {
   "cell_type": "code",
   "execution_count": 5,
   "id": "recent-jason",
   "metadata": {},
   "outputs": [],
   "source": [
    "X_train = df[['account length', 'number vmail messages', 'total day minutes',\n",
    "       'total day calls', 'total eve minutes', 'total eve calls',\n",
    "       'total night minutes', 'total night calls', 'total intl minutes',\n",
    "       'total intl calls', 'customer service calls', 'total_minutes',\n",
    "       'night_perc', 'eve_perc', 'total_calls', 'area code_408',\n",
    "       'area code_415', 'area code_510', 'international plan_no',\n",
    "       'international plan_yes', 'voice mail plan_no',\n",
    "       'voice mail plan_yes']]\n",
    "y_train = df['churn']\n",
    "\n",
    "X_test = df_test[['account length', 'number vmail messages', 'total day minutes',\n",
    "       'total day calls', 'total eve minutes', 'total eve calls',\n",
    "       'total night minutes', 'total night calls', 'total intl minutes',\n",
    "       'total intl calls', 'customer service calls', 'total_minutes',\n",
    "       'night_perc', 'eve_perc', 'total_calls', 'area code_408',\n",
    "       'area code_415', 'area code_510', 'international plan_no',\n",
    "       'international plan_yes', 'voice mail plan_no',\n",
    "       'voice mail plan_yes']]\n",
    "y_test = df_test['churn']"
   ]
  },
  {
   "cell_type": "code",
   "execution_count": 6,
   "id": "pleasant-bikini",
   "metadata": {},
   "outputs": [
    {
     "data": {
      "text/plain": [
       "(210, 22)"
      ]
     },
     "execution_count": 6,
     "metadata": {},
     "output_type": "execute_result"
    }
   ],
   "source": [
    "X_test.shape"
   ]
  },
  {
   "cell_type": "code",
   "execution_count": 65,
   "id": "headed-grocery",
   "metadata": {},
   "outputs": [],
   "source": [
    "model = Sequential()\n",
    "\n",
    "\n",
    "model.add(Dense(23,activation = 'relu'))\n",
    "model.add(Dense(11,activation = 'relu'))\n",
    "model.add(Dense(1,activation = 'sigmoid'))\n",
    "\n",
    "model.compile(loss = 'binary_crossentropy',optimizer = 'adam')\n"
   ]
  },
  {
   "cell_type": "code",
   "execution_count": 66,
   "id": "mature-society",
   "metadata": {},
   "outputs": [
    {
     "data": {
      "text/plain": [
       "<tensorflow.python.keras.callbacks.History at 0x28f71eac0>"
      ]
     },
     "execution_count": 66,
     "metadata": {},
     "output_type": "execute_result"
    }
   ],
   "source": [
    "model.fit(x=X_train,y=y_train,epochs =500,validation_data = (X_test,y_test),verbose = 0)\n",
    "print('500 epochs are done.')"
   ]
  },
  {
   "cell_type": "code",
   "execution_count": 67,
   "id": "massive-seeking",
   "metadata": {},
   "outputs": [
    {
     "data": {
      "text/plain": [
       "<AxesSubplot:>"
      ]
     },
     "execution_count": 67,
     "metadata": {},
     "output_type": "execute_result"
    },
    {
     "data": {
      "image/png": "[encoded data removed]",
      "text/plain": [
       "<Figure size 432x288 with 1 Axes>"
      ]
     },
     "metadata": {
      "needs_background": "light"
     },
     "output_type": "display_data"
    }
   ],
   "source": [
    "losses = pd.DataFrame(model.history.history)\n",
    "losses.plot()"
   ]
  },
  {
   "cell_type": "code",
   "execution_count": 68,
   "id": "adequate-pressure",
   "metadata": {},
   "outputs": [],
   "source": [
    "model = Sequential()\n",
    "\n",
    "\n",
    "model.add(Dense(23,activation = 'relu'))\n",
    "model.add(Dense(11,activation = 'relu'))\n",
    "model.add(Dense(1,activation = 'sigmoid'))\n",
    "\n",
    "model.compile(loss = 'binary_crossentropy',optimizer = 'adam')\n"
   ]
  },
  {
   "cell_type": "code",
   "execution_count": 9,
   "id": "creative-kinase",
   "metadata": {},
   "outputs": [],
   "source": [
    "from tensorflow.keras.callbacks import EarlyStopping"
   ]
  },
  {
   "cell_type": "code",
   "execution_count": 10,
   "id": "charitable-collaboration",
   "metadata": {},
   "outputs": [],
   "source": [
    "early_stop = EarlyStopping(monitor = 'val_loss', mode = 'min',verbose = 1,patience = 5)"
   ]
  },
  {
   "cell_type": "code",
   "execution_count": 71,
   "id": "specific-faith",
   "metadata": {},
   "outputs": [
    {
     "name": "stdout",
     "output_type": "stream",
     "text": [
      "Epoch 1/500\n",
      "143/143 [==============================] - 0s 785us/step - loss: 0.6736 - val_loss: 0.6629\n",
      "Epoch 2/500\n",
      "143/143 [==============================] - 0s 433us/step - loss: 0.4788 - val_loss: 0.6688\n",
      "Epoch 3/500\n",
      "143/143 [==============================] - 0s 412us/step - loss: 0.3909 - val_loss: 0.6970\n",
      "Epoch 4/500\n",
      "143/143 [==============================] - 0s 404us/step - loss: 0.3428 - val_loss: 0.7197\n",
      "Epoch 5/500\n",
      "143/143 [==============================] - 0s 407us/step - loss: 0.3421 - val_loss: 0.7434\n",
      "Epoch 6/500\n",
      "143/143 [==============================] - 0s 400us/step - loss: 0.3182 - val_loss: 0.7091\n",
      "Epoch 00006: early stopping\n"
     ]
    },
    {
     "data": {
      "text/plain": [
       "<tensorflow.python.keras.callbacks.History at 0x28ff176a0>"
      ]
     },
     "execution_count": 71,
     "metadata": {},
     "output_type": "execute_result"
    }
   ],
   "source": [
    "model.fit(x=X_train,y=y_train,epochs =500,validation_data = (X_test,y_test),callbacks = [early_stop])"
   ]
  },
  {
   "cell_type": "code",
   "execution_count": 72,
   "id": "dominican-integration",
   "metadata": {},
   "outputs": [
    {
     "data": {
      "text/plain": [
       "<AxesSubplot:>"
      ]
     },
     "execution_count": 72,
     "metadata": {},
     "output_type": "execute_result"
    },
    {
     "data": {
      "image/png": "[encoded data removed]",
      "text/plain": [
       "<Figure size 432x288 with 1 Axes>"
      ]
     },
     "metadata": {
      "needs_background": "light"
     },
     "output_type": "display_data"
    }
   ],
   "source": [
    "losses = pd.DataFrame(model.history.history)\n",
    "losses.plot()"
   ]
  },
  {
   "cell_type": "code",
   "execution_count": 11,
   "id": "convertible-knife",
   "metadata": {},
   "outputs": [],
   "source": [
    "from tensorflow.keras.layers import Dropout"
   ]
  },
  {
   "cell_type": "code",
   "execution_count": 74,
   "id": "italic-porter",
   "metadata": {},
   "outputs": [],
   "source": [
    "model = Sequential()\n",
    "\n",
    "\n",
    "model.add(Dense(23,activation = 'relu'))\n",
    "model.add(Dropout(0.4))\n",
    "\n",
    "model.add(Dense(11,activation = 'relu'))\n",
    "model.add(Dropout(0.4))\n",
    "\n",
    "\n",
    "model.add(Dense(1,activation = 'sigmoid'))\n",
    "\n",
    "model.compile(loss = 'binary_crossentropy',optimizer = 'adam')\n"
   ]
  },
  {
   "cell_type": "code",
   "execution_count": 75,
   "id": "extraordinary-democrat",
   "metadata": {},
   "outputs": [
    {
     "name": "stdout",
     "output_type": "stream",
     "text": [
      "Epoch 1/500\n",
      "143/143 [==============================] - 0s 776us/step - loss: 0.7555 - val_loss: 0.7084\n",
      "Epoch 2/500\n",
      "143/143 [==============================] - 0s 446us/step - loss: 0.6617 - val_loss: 0.7033\n",
      "Epoch 3/500\n",
      "143/143 [==============================] - 0s 429us/step - loss: 0.6424 - val_loss: 0.6711\n",
      "Epoch 4/500\n",
      "143/143 [==============================] - 0s 429us/step - loss: 0.6118 - val_loss: 0.6511\n",
      "Epoch 5/500\n",
      "143/143 [==============================] - 0s 425us/step - loss: 0.5970 - val_loss: 0.6203\n",
      "Epoch 6/500\n",
      "143/143 [==============================] - 0s 422us/step - loss: 0.5699 - val_loss: 0.6404\n",
      "Epoch 7/500\n",
      "143/143 [==============================] - 0s 424us/step - loss: 0.5664 - val_loss: 0.6138\n",
      "Epoch 8/500\n",
      "143/143 [==============================] - 0s 420us/step - loss: 0.5483 - val_loss: 0.6137\n",
      "Epoch 9/500\n",
      "143/143 [==============================] - 0s 422us/step - loss: 0.5458 - val_loss: 0.6172\n",
      "Epoch 10/500\n",
      "143/143 [==============================] - 0s 427us/step - loss: 0.5432 - val_loss: 0.6143\n",
      "Epoch 11/500\n",
      "143/143 [==============================] - 0s 439us/step - loss: 0.5217 - val_loss: 0.5839\n",
      "Epoch 12/500\n",
      "143/143 [==============================] - 0s 429us/step - loss: 0.5135 - val_loss: 0.6146\n",
      "Epoch 13/500\n",
      "143/143 [==============================] - 0s 467us/step - loss: 0.5169 - val_loss: 0.5992\n",
      "Epoch 14/500\n",
      "143/143 [==============================] - 0s 446us/step - loss: 0.5054 - val_loss: 0.6053\n",
      "Epoch 15/500\n",
      "143/143 [==============================] - 0s 433us/step - loss: 0.5207 - val_loss: 0.6081\n",
      "Epoch 16/500\n",
      "143/143 [==============================] - 0s 435us/step - loss: 0.4820 - val_loss: 0.5889\n",
      "Epoch 00016: early stopping\n"
     ]
    },
    {
     "data": {
      "text/plain": [
       "<tensorflow.python.keras.callbacks.History at 0x2911ed520>"
      ]
     },
     "execution_count": 75,
     "metadata": {},
     "output_type": "execute_result"
    }
   ],
   "source": [
    "model.fit(x=X_train,y=y_train,epochs =500,validation_data = (X_test,y_test),callbacks = [early_stop])"
   ]
  },
  {
   "cell_type": "code",
   "execution_count": 76,
   "id": "contrary-diploma",
   "metadata": {},
   "outputs": [
    {
     "data": {
      "text/plain": [
       "<AxesSubplot:>"
      ]
     },
     "execution_count": 76,
     "metadata": {},
     "output_type": "execute_result"
    },
    {
     "data": {
      "image/png": "[encoded data removed]",
      "text/plain": [
       "<Figure size 432x288 with 1 Axes>"
      ]
     },
     "metadata": {
      "needs_background": "light"
     },
     "output_type": "display_data"
    }
   ],
   "source": [
    "losses = pd.DataFrame(model.history.history)\n",
    "losses.plot()"
   ]
  },
  {
   "cell_type": "code",
   "execution_count": 15,
   "id": "motivated-spirituality",
   "metadata": {},
   "outputs": [],
   "source": [
    "model = Sequential()\n",
    "\n",
    "\n",
    "model.add(Dense(23,activation = 'relu'))\n",
    "model.add(Dropout(0.4))\n",
    "\n",
    "model.add(Dense(11,activation = 'relu'))\n",
    "model.add(Dropout(0.4))\n",
    "\n",
    "\n",
    "model.add(Dense(1,activation = 'sigmoid'))\n",
    "\n",
    "model.compile(loss = 'binary_crossentropy',optimizer = 'adam')\n"
   ]
  },
  {
   "cell_type": "code",
   "execution_count": 16,
   "id": "residential-logic",
   "metadata": {},
   "outputs": [
    {
     "name": "stdout",
     "output_type": "stream",
     "text": [
      "Epoch 1/500\n",
      "134/134 [==============================] - 0s 1ms/step - loss: 0.7062 - val_loss: 0.6695\n",
      "Epoch 2/500\n",
      "134/134 [==============================] - 0s 465us/step - loss: 0.6270 - val_loss: 0.7110\n",
      "Epoch 3/500\n",
      "134/134 [==============================] - 0s 456us/step - loss: 0.5806 - val_loss: 0.7137\n",
      "Epoch 4/500\n",
      "134/134 [==============================] - 0s 451us/step - loss: 0.5842 - val_loss: 0.7056\n",
      "Epoch 5/500\n",
      "134/134 [==============================] - 0s 454us/step - loss: 0.5643 - val_loss: 0.7202\n",
      "Epoch 6/500\n",
      "134/134 [==============================] - 0s 449us/step - loss: 0.5534 - val_loss: 0.6966\n",
      "Epoch 00006: early stopping\n"
     ]
    },
    {
     "data": {
      "text/plain": [
       "<tensorflow.python.keras.callbacks.History at 0x14f0c4520>"
      ]
     },
     "execution_count": 16,
     "metadata": {},
     "output_type": "execute_result"
    }
   ],
   "source": [
    "model.fit(x=X_train,y=y_train,epochs =500,validation_data = (X_test,y_test),callbacks = [early_stop])"
   ]
  },
  {
   "cell_type": "code",
   "execution_count": 17,
   "id": "civic-dragon",
   "metadata": {},
   "outputs": [
    {
     "data": {
      "text/plain": [
       "<AxesSubplot:>"
      ]
     },
     "execution_count": 17,
     "metadata": {},
     "output_type": "execute_result"
    },
    {
     "data": {
      "image/png": "[encoded data removed]",
      "text/plain": [
       "<Figure size 432x288 with 1 Axes>"
      ]
     },
     "metadata": {
      "needs_background": "light"
     },
     "output_type": "display_data"
    }
   ],
   "source": [
    "losses = pd.DataFrame(model.history.history)\n",
    "losses.plot()"
   ]
  },
  {
   "cell_type": "code",
   "execution_count": 80,
   "id": "smaller-ground",
   "metadata": {},
   "outputs": [
    {
     "name": "stderr",
     "output_type": "stream",
     "text": [
      "/Users/paultorres/miniforge3/envs/tf_env/lib/python3.8/site-packages/tensorflow/python/keras/engine/sequential.py:450: UserWarning: `model.predict_classes()` is deprecated and will be removed after 2021-01-01. Please use instead:* `np.argmax(model.predict(x), axis=-1)`,   if your model does multi-class classification   (e.g. if it uses a `softmax` last-layer activation).* `(model.predict(x) > 0.5).astype(\"int32\")`,   if your model does binary classification   (e.g. if it uses a `sigmoid` last-layer activation).\n",
      "  warnings.warn('`model.predict_classes()` is deprecated and '\n"
     ]
    }
   ],
   "source": [
    "y_pred = model.predict_classes(X_test)"
   ]
  },
  {
   "cell_type": "code",
   "execution_count": 81,
   "id": "particular-literacy",
   "metadata": {},
   "outputs": [],
   "source": [
    "from sklearn.metrics import classification_report, confusion_matrix"
   ]
  },
  {
   "cell_type": "code",
   "execution_count": 82,
   "id": "useful-favorite",
   "metadata": {},
   "outputs": [
    {
     "name": "stdout",
     "output_type": "stream",
     "text": [
      "              precision    recall  f1-score   support\n",
      "\n",
      "           0       0.88      0.84      0.86       114\n",
      "           1       0.18      0.24      0.21        17\n",
      "\n",
      "    accuracy                           0.76       131\n",
      "   macro avg       0.53      0.54      0.53       131\n",
      "weighted avg       0.79      0.76      0.78       131\n",
      "\n"
     ]
    }
   ],
   "source": [
    "print(classification_report(y_test,y_pred))"
   ]
  },
  {
   "cell_type": "code",
   "execution_count": 83,
   "id": "equal-handle",
   "metadata": {},
   "outputs": [
    {
     "name": "stdout",
     "output_type": "stream",
     "text": [
      "[[96 18]\n",
      " [13  4]]\n"
     ]
    }
   ],
   "source": [
    "print(confusion_matrix(y_test,y_pred))"
   ]
  },
  {
   "cell_type": "code",
   "execution_count": null,
   "id": "precise-lingerie",
   "metadata": {},
   "outputs": [],
   "source": []
  }
 ],
 "metadata": {
  "kernelspec": {
   "display_name": "Python 3",
   "language": "python",
   "name": "python3"
  },
  "language_info": {
   "codemirror_mode": {
    "name": "ipython",
    "version": 3
   },
   "file_extension": ".py",
   "mimetype": "text/x-python",
   "name": "python",
   "nbconvert_exporter": "python",
   "pygments_lexer": "ipython3",
   "version": "3.8.6"
  }
 },
 "nbformat": 4,
 "nbformat_minor": 5
}
