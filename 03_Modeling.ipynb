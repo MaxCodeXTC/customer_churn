{
 "cells": [
  {
   "cell_type": "code",
   "execution_count": null,
   "id": "composed-british",
   "metadata": {},
   "outputs": [],
   "source": [
    "###"
   ]
  },
  {
   "cell_type": "code",
   "execution_count": 4,
   "id": "northern-paper",
   "metadata": {},
   "outputs": [],
   "source": [
    "import pandas as pd\n",
    "import numpy as np\n",
    "import matplotlib.pyplot as plt\n",
    "import seaborn as sns\n",
    "import pickle\n",
    "\n",
    "\n",
    "\n",
    "from tensorflow.keras.models import Sequential\n",
    "from tensorflow.keras.layers import Dense, Dropout"
   ]
  },
  {
   "cell_type": "code",
   "execution_count": 6,
   "id": "worldwide-contents",
   "metadata": {},
   "outputs": [],
   "source": [
    "df = pd.read_pickle('df_res.pkl')\n",
    "df_test = pd.read_pickle('df_test.pkl')"
   ]
  },
  {
   "cell_type": "code",
   "execution_count": 8,
   "id": "stone-springfield",
   "metadata": {},
   "outputs": [
    {
     "name": "stdout",
     "output_type": "stream",
     "text": [
      "(4564, 23)\n"
     ]
    },
    {
     "data": {
      "text/html": [
       "<div>\n",
       "<style scoped>\n",
       "    .dataframe tbody tr th:only-of-type {\n",
       "        vertical-align: middle;\n",
       "    }\n",
       "\n",
       "    .dataframe tbody tr th {\n",
       "        vertical-align: top;\n",
       "    }\n",
       "\n",
       "    .dataframe thead th {\n",
       "        text-align: right;\n",
       "    }\n",
       "</style>\n",
       "<table border=\"1\" class=\"dataframe\">\n",
       "  <thead>\n",
       "    <tr style=\"text-align: right;\">\n",
       "      <th></th>\n",
       "      <th>account length</th>\n",
       "      <th>number vmail messages</th>\n",
       "      <th>total day minutes</th>\n",
       "      <th>total day calls</th>\n",
       "      <th>total eve minutes</th>\n",
       "      <th>total eve calls</th>\n",
       "      <th>total night minutes</th>\n",
       "      <th>total night calls</th>\n",
       "      <th>total intl minutes</th>\n",
       "      <th>total intl calls</th>\n",
       "      <th>...</th>\n",
       "      <th>eve_perc</th>\n",
       "      <th>total_calls</th>\n",
       "      <th>area code_408</th>\n",
       "      <th>area code_415</th>\n",
       "      <th>area code_510</th>\n",
       "      <th>international plan_no</th>\n",
       "      <th>international plan_yes</th>\n",
       "      <th>voice mail plan_no</th>\n",
       "      <th>voice mail plan_yes</th>\n",
       "      <th>churn</th>\n",
       "    </tr>\n",
       "  </thead>\n",
       "  <tbody>\n",
       "    <tr>\n",
       "      <th>0</th>\n",
       "      <td>-1.002286</td>\n",
       "      <td>-0.595943</td>\n",
       "      <td>0.174162</td>\n",
       "      <td>0.231080</td>\n",
       "      <td>-0.924691</td>\n",
       "      <td>0.808824</td>\n",
       "      <td>0.252466</td>\n",
       "      <td>0.300071</td>\n",
       "      <td>-0.012828</td>\n",
       "      <td>-1.016415</td>\n",
       "      <td>...</td>\n",
       "      <td>-0.924331</td>\n",
       "      <td>0.699851</td>\n",
       "      <td>0.0</td>\n",
       "      <td>1.0</td>\n",
       "      <td>0.0</td>\n",
       "      <td>1.0</td>\n",
       "      <td>0.0</td>\n",
       "      <td>1.0</td>\n",
       "      <td>0.0</td>\n",
       "      <td>0</td>\n",
       "    </tr>\n",
       "    <tr>\n",
       "      <th>1</th>\n",
       "      <td>0.109213</td>\n",
       "      <td>-0.595943</td>\n",
       "      <td>-1.339363</td>\n",
       "      <td>-1.453904</td>\n",
       "      <td>0.763894</td>\n",
       "      <td>-0.869923</td>\n",
       "      <td>-1.049873</td>\n",
       "      <td>0.707709</td>\n",
       "      <td>-1.771274</td>\n",
       "      <td>-0.209338</td>\n",
       "      <td>...</td>\n",
       "      <td>1.879406</td>\n",
       "      <td>-0.966984</td>\n",
       "      <td>0.0</td>\n",
       "      <td>1.0</td>\n",
       "      <td>0.0</td>\n",
       "      <td>1.0</td>\n",
       "      <td>0.0</td>\n",
       "      <td>1.0</td>\n",
       "      <td>0.0</td>\n",
       "      <td>1</td>\n",
       "    </tr>\n",
       "    <tr>\n",
       "      <th>2</th>\n",
       "      <td>0.513395</td>\n",
       "      <td>-0.595943</td>\n",
       "      <td>-0.214768</td>\n",
       "      <td>-0.314062</td>\n",
       "      <td>-2.094012</td>\n",
       "      <td>1.063179</td>\n",
       "      <td>0.808343</td>\n",
       "      <td>0.758663</td>\n",
       "      <td>1.135545</td>\n",
       "      <td>-1.419953</td>\n",
       "      <td>...</td>\n",
       "      <td>-2.127580</td>\n",
       "      <td>0.758336</td>\n",
       "      <td>1.0</td>\n",
       "      <td>0.0</td>\n",
       "      <td>0.0</td>\n",
       "      <td>0.0</td>\n",
       "      <td>1.0</td>\n",
       "      <td>1.0</td>\n",
       "      <td>0.0</td>\n",
       "      <td>1</td>\n",
       "    </tr>\n",
       "    <tr>\n",
       "      <th>3</th>\n",
       "      <td>-0.193923</td>\n",
       "      <td>1.007196</td>\n",
       "      <td>2.326119</td>\n",
       "      <td>1.123130</td>\n",
       "      <td>-0.219975</td>\n",
       "      <td>-0.869923</td>\n",
       "      <td>0.788490</td>\n",
       "      <td>0.351026</td>\n",
       "      <td>0.525472</td>\n",
       "      <td>-1.016415</td>\n",
       "      <td>...</td>\n",
       "      <td>-1.161896</td>\n",
       "      <td>0.290453</td>\n",
       "      <td>1.0</td>\n",
       "      <td>0.0</td>\n",
       "      <td>0.0</td>\n",
       "      <td>1.0</td>\n",
       "      <td>0.0</td>\n",
       "      <td>0.0</td>\n",
       "      <td>1.0</td>\n",
       "      <td>0</td>\n",
       "    </tr>\n",
       "    <tr>\n",
       "      <th>4</th>\n",
       "      <td>-1.608558</td>\n",
       "      <td>-0.595943</td>\n",
       "      <td>1.109796</td>\n",
       "      <td>0.974455</td>\n",
       "      <td>1.183600</td>\n",
       "      <td>-0.615567</td>\n",
       "      <td>0.129379</td>\n",
       "      <td>-0.617114</td>\n",
       "      <td>-0.479355</td>\n",
       "      <td>-0.209338</td>\n",
       "      <td>...</td>\n",
       "      <td>0.324424</td>\n",
       "      <td>-0.148188</td>\n",
       "      <td>0.0</td>\n",
       "      <td>0.0</td>\n",
       "      <td>1.0</td>\n",
       "      <td>1.0</td>\n",
       "      <td>0.0</td>\n",
       "      <td>1.0</td>\n",
       "      <td>0.0</td>\n",
       "      <td>1</td>\n",
       "    </tr>\n",
       "  </tbody>\n",
       "</table>\n",
       "<p>5 rows × 23 columns</p>\n",
       "</div>"
      ],
      "text/plain": [
       "   account length  number vmail messages  total day minutes  total day calls  \\\n",
       "0       -1.002286              -0.595943           0.174162         0.231080   \n",
       "1        0.109213              -0.595943          -1.339363        -1.453904   \n",
       "2        0.513395              -0.595943          -0.214768        -0.314062   \n",
       "3       -0.193923               1.007196           2.326119         1.123130   \n",
       "4       -1.608558              -0.595943           1.109796         0.974455   \n",
       "\n",
       "   total eve minutes  total eve calls  total night minutes  total night calls  \\\n",
       "0          -0.924691         0.808824             0.252466           0.300071   \n",
       "1           0.763894        -0.869923            -1.049873           0.707709   \n",
       "2          -2.094012         1.063179             0.808343           0.758663   \n",
       "3          -0.219975        -0.869923             0.788490           0.351026   \n",
       "4           1.183600        -0.615567             0.129379          -0.617114   \n",
       "\n",
       "   total intl minutes  total intl calls  ...  eve_perc  total_calls  \\\n",
       "0           -0.012828         -1.016415  ... -0.924331     0.699851   \n",
       "1           -1.771274         -0.209338  ...  1.879406    -0.966984   \n",
       "2            1.135545         -1.419953  ... -2.127580     0.758336   \n",
       "3            0.525472         -1.016415  ... -1.161896     0.290453   \n",
       "4           -0.479355         -0.209338  ...  0.324424    -0.148188   \n",
       "\n",
       "   area code_408  area code_415  area code_510  international plan_no  \\\n",
       "0            0.0            1.0            0.0                    1.0   \n",
       "1            0.0            1.0            0.0                    1.0   \n",
       "2            1.0            0.0            0.0                    0.0   \n",
       "3            1.0            0.0            0.0                    1.0   \n",
       "4            0.0            0.0            1.0                    1.0   \n",
       "\n",
       "   international plan_yes  voice mail plan_no  voice mail plan_yes  churn  \n",
       "0                     0.0                 1.0                  0.0      0  \n",
       "1                     0.0                 1.0                  0.0      1  \n",
       "2                     1.0                 1.0                  0.0      1  \n",
       "3                     0.0                 0.0                  1.0      0  \n",
       "4                     0.0                 1.0                  0.0      1  \n",
       "\n",
       "[5 rows x 23 columns]"
      ]
     },
     "execution_count": 8,
     "metadata": {},
     "output_type": "execute_result"
    }
   ],
   "source": [
    "print(df.shape)\n",
    "df.head()\n"
   ]
  },
  {
   "cell_type": "code",
   "execution_count": 13,
   "id": "military-solomon",
   "metadata": {},
   "outputs": [
    {
     "data": {
      "text/plain": [
       "array(['account length', 'number vmail messages', 'total day minutes',\n",
       "       'total day calls', 'total eve minutes', 'total eve calls',\n",
       "       'total night minutes', 'total night calls', 'total intl minutes',\n",
       "       'total intl calls', 'customer service calls', 'total_minutes',\n",
       "       'night_perc', 'eve_perc', 'total_calls', 'area code_408',\n",
       "       'area code_415', 'area code_510', 'international plan_no',\n",
       "       'international plan_yes', 'voice mail plan_no',\n",
       "       'voice mail plan_yes', 'churn'], dtype=object)"
      ]
     },
     "execution_count": 13,
     "metadata": {},
     "output_type": "execute_result"
    }
   ],
   "source": [
    "df.columns.values"
   ]
  },
  {
   "cell_type": "code",
   "execution_count": 20,
   "id": "hydraulic-civilization",
   "metadata": {},
   "outputs": [],
   "source": [
    "X_train = df[['account length', 'number vmail messages', 'total day minutes',\n",
    "       'total day calls', 'total eve minutes', 'total eve calls',\n",
    "       'total night minutes', 'total night calls', 'total intl minutes',\n",
    "       'total intl calls', 'customer service calls', 'total_minutes',\n",
    "       'night_perc', 'eve_perc', 'total_calls', 'area code_408',\n",
    "       'area code_415', 'area code_510', 'international plan_no',\n",
    "       'international plan_yes', 'voice mail plan_no',\n",
    "       'voice mail plan_yes']]\n",
    "y_train = df['churn']\n",
    "\n",
    "X_test = df_test[['account length', 'number vmail messages', 'total day minutes',\n",
    "       'total day calls', 'total eve minutes', 'total eve calls',\n",
    "       'total night minutes', 'total night calls', 'total intl minutes',\n",
    "       'total intl calls', 'customer service calls', 'total_minutes',\n",
    "       'night_perc', 'eve_perc', 'total_calls', 'area code_408',\n",
    "       'area code_415', 'area code_510', 'international plan_no',\n",
    "       'international plan_yes', 'voice mail plan_no',\n",
    "       'voice mail plan_yes']]\n",
    "y_test = df_test['churn']"
   ]
  },
  {
   "cell_type": "code",
   "execution_count": 21,
   "id": "hundred-trinity",
   "metadata": {},
   "outputs": [
    {
     "data": {
      "text/plain": [
       "(131, 22)"
      ]
     },
     "execution_count": 21,
     "metadata": {},
     "output_type": "execute_result"
    }
   ],
   "source": [
    "X_test.shape"
   ]
  },
  {
   "cell_type": "code",
   "execution_count": 65,
   "id": "casual-champagne",
   "metadata": {},
   "outputs": [],
   "source": [
    "model = Sequential()\n",
    "\n",
    "\n",
    "model.add(Dense(23,activation = 'relu'))\n",
    "model.add(Dense(11,activation = 'relu'))\n",
    "model.add(Dense(1,activation = 'sigmoid'))\n",
    "\n",
    "model.compile(loss = 'binary_crossentropy',optimizer = 'adam')\n"
   ]
  },
  {
   "cell_type": "code",
   "execution_count": 66,
   "id": "vertical-government",
   "metadata": {},
   "outputs": [
    {
     "data": {
      "text/plain": [
       "<tensorflow.python.keras.callbacks.History at 0x28f71eac0>"
      ]
     },
     "execution_count": 66,
     "metadata": {},
     "output_type": "execute_result"
    }
   ],
   "source": [
    "model.fit(x=X_train,y=y_train,epochs =500,validation_data = (X_test,y_test),verbose = 0)\n",
    "print('500 epochs are done.')"
   ]
  },
  {
   "cell_type": "code",
   "execution_count": 67,
   "id": "ethical-rubber",
   "metadata": {},
   "outputs": [
    {
     "data": {
      "text/plain": [
       "<AxesSubplot:>"
      ]
     },
     "execution_count": 67,
     "metadata": {},
     "output_type": "execute_result"
    },
    {
     "data": {
      "image/png": "[encoded data removed]",
      "text/plain": [
       "<Figure size 432x288 with 1 Axes>"
      ]
     },
     "metadata": {
      "needs_background": "light"
     },
     "output_type": "display_data"
    }
   ],
   "source": [
    "losses = pd.DataFrame(model.history.history)\n",
    "losses.plot()"
   ]
  },
  {
   "cell_type": "code",
   "execution_count": 68,
   "id": "reported-palmer",
   "metadata": {},
   "outputs": [],
   "source": [
    "model = Sequential()\n",
    "\n",
    "\n",
    "model.add(Dense(23,activation = 'relu'))\n",
    "model.add(Dense(11,activation = 'relu'))\n",
    "model.add(Dense(1,activation = 'sigmoid'))\n",
    "\n",
    "model.compile(loss = 'binary_crossentropy',optimizer = 'adam')\n"
   ]
  },
  {
   "cell_type": "code",
   "execution_count": 69,
   "id": "experienced-booking",
   "metadata": {},
   "outputs": [],
   "source": [
    "from tensorflow.keras.callbacks import EarlyStopping"
   ]
  },
  {
   "cell_type": "code",
   "execution_count": 70,
   "id": "furnished-ethiopia",
   "metadata": {},
   "outputs": [],
   "source": [
    "early_stop = EarlyStopping(monitor = 'val_loss', mode = 'min',verbose = 1,patience = 5)"
   ]
  },
  {
   "cell_type": "code",
   "execution_count": 71,
   "id": "hollywood-eight",
   "metadata": {},
   "outputs": [
    {
     "name": "stdout",
     "output_type": "stream",
     "text": [
      "Epoch 1/500\n",
      "143/143 [==============================] - 0s 785us/step - loss: 0.6736 - val_loss: 0.6629\n",
      "Epoch 2/500\n",
      "143/143 [==============================] - 0s 433us/step - loss: 0.4788 - val_loss: 0.6688\n",
      "Epoch 3/500\n",
      "143/143 [==============================] - 0s 412us/step - loss: 0.3909 - val_loss: 0.6970\n",
      "Epoch 4/500\n",
      "143/143 [==============================] - 0s 404us/step - loss: 0.3428 - val_loss: 0.7197\n",
      "Epoch 5/500\n",
      "143/143 [==============================] - 0s 407us/step - loss: 0.3421 - val_loss: 0.7434\n",
      "Epoch 6/500\n",
      "143/143 [==============================] - 0s 400us/step - loss: 0.3182 - val_loss: 0.7091\n",
      "Epoch 00006: early stopping\n"
     ]
    },
    {
     "data": {
      "text/plain": [
       "<tensorflow.python.keras.callbacks.History at 0x28ff176a0>"
      ]
     },
     "execution_count": 71,
     "metadata": {},
     "output_type": "execute_result"
    }
   ],
   "source": [
    "model.fit(x=X_train,y=y_train,epochs =500,validation_data = (X_test,y_test),callbacks = [early_stop])"
   ]
  },
  {
   "cell_type": "code",
   "execution_count": 72,
   "id": "senior-edinburgh",
   "metadata": {},
   "outputs": [
    {
     "data": {
      "text/plain": [
       "<AxesSubplot:>"
      ]
     },
     "execution_count": 72,
     "metadata": {},
     "output_type": "execute_result"
    },
    {
     "data": {
      "image/png": "[encoded data removed]",
      "text/plain": [
       "<Figure size 432x288 with 1 Axes>"
      ]
     },
     "metadata": {
      "needs_background": "light"
     },
     "output_type": "display_data"
    }
   ],
   "source": [
    "losses = pd.DataFrame(model.history.history)\n",
    "losses.plot()"
   ]
  },
  {
   "cell_type": "code",
   "execution_count": 73,
   "id": "proprietary-lucas",
   "metadata": {},
   "outputs": [],
   "source": [
    "from tensorflow.keras.layers import Dropout"
   ]
  },
  {
   "cell_type": "code",
   "execution_count": 74,
   "id": "massive-grant",
   "metadata": {},
   "outputs": [],
   "source": [
    "model = Sequential()\n",
    "\n",
    "\n",
    "model.add(Dense(23,activation = 'relu'))\n",
    "model.add(Dropout(0.4))\n",
    "\n",
    "model.add(Dense(11,activation = 'relu'))\n",
    "model.add(Dropout(0.4))\n",
    "\n",
    "\n",
    "model.add(Dense(1,activation = 'sigmoid'))\n",
    "\n",
    "model.compile(loss = 'binary_crossentropy',optimizer = 'adam')\n"
   ]
  },
  {
   "cell_type": "code",
   "execution_count": 75,
   "id": "vocal-forward",
   "metadata": {},
   "outputs": [
    {
     "name": "stdout",
     "output_type": "stream",
     "text": [
      "Epoch 1/500\n",
      "143/143 [==============================] - 0s 776us/step - loss: 0.7555 - val_loss: 0.7084\n",
      "Epoch 2/500\n",
      "143/143 [==============================] - 0s 446us/step - loss: 0.6617 - val_loss: 0.7033\n",
      "Epoch 3/500\n",
      "143/143 [==============================] - 0s 429us/step - loss: 0.6424 - val_loss: 0.6711\n",
      "Epoch 4/500\n",
      "143/143 [==============================] - 0s 429us/step - loss: 0.6118 - val_loss: 0.6511\n",
      "Epoch 5/500\n",
      "143/143 [==============================] - 0s 425us/step - loss: 0.5970 - val_loss: 0.6203\n",
      "Epoch 6/500\n",
      "143/143 [==============================] - 0s 422us/step - loss: 0.5699 - val_loss: 0.6404\n",
      "Epoch 7/500\n",
      "143/143 [==============================] - 0s 424us/step - loss: 0.5664 - val_loss: 0.6138\n",
      "Epoch 8/500\n",
      "143/143 [==============================] - 0s 420us/step - loss: 0.5483 - val_loss: 0.6137\n",
      "Epoch 9/500\n",
      "143/143 [==============================] - 0s 422us/step - loss: 0.5458 - val_loss: 0.6172\n",
      "Epoch 10/500\n",
      "143/143 [==============================] - 0s 427us/step - loss: 0.5432 - val_loss: 0.6143\n",
      "Epoch 11/500\n",
      "143/143 [==============================] - 0s 439us/step - loss: 0.5217 - val_loss: 0.5839\n",
      "Epoch 12/500\n",
      "143/143 [==============================] - 0s 429us/step - loss: 0.5135 - val_loss: 0.6146\n",
      "Epoch 13/500\n",
      "143/143 [==============================] - 0s 467us/step - loss: 0.5169 - val_loss: 0.5992\n",
      "Epoch 14/500\n",
      "143/143 [==============================] - 0s 446us/step - loss: 0.5054 - val_loss: 0.6053\n",
      "Epoch 15/500\n",
      "143/143 [==============================] - 0s 433us/step - loss: 0.5207 - val_loss: 0.6081\n",
      "Epoch 16/500\n",
      "143/143 [==============================] - 0s 435us/step - loss: 0.4820 - val_loss: 0.5889\n",
      "Epoch 00016: early stopping\n"
     ]
    },
    {
     "data": {
      "text/plain": [
       "<tensorflow.python.keras.callbacks.History at 0x2911ed520>"
      ]
     },
     "execution_count": 75,
     "metadata": {},
     "output_type": "execute_result"
    }
   ],
   "source": [
    "model.fit(x=X_train,y=y_train,epochs =500,validation_data = (X_test,y_test),callbacks = [early_stop])"
   ]
  },
  {
   "cell_type": "code",
   "execution_count": 76,
   "id": "unsigned-pontiac",
   "metadata": {},
   "outputs": [
    {
     "data": {
      "text/plain": [
       "<AxesSubplot:>"
      ]
     },
     "execution_count": 76,
     "metadata": {},
     "output_type": "execute_result"
    },
    {
     "data": {
      "image/png": "[encoded data removed]",
      "text/plain": [
       "<Figure size 432x288 with 1 Axes>"
      ]
     },
     "metadata": {
      "needs_background": "light"
     },
     "output_type": "display_data"
    }
   ],
   "source": [
    "losses = pd.DataFrame(model.history.history)\n",
    "losses.plot()"
   ]
  },
  {
   "cell_type": "code",
   "execution_count": 77,
   "id": "photographic-webmaster",
   "metadata": {},
   "outputs": [],
   "source": [
    "model = Sequential()\n",
    "\n",
    "\n",
    "model.add(Dense(23,activation = 'relu'))\n",
    "model.add(Dropout(0.4))\n",
    "\n",
    "model.add(Dense(11,activation = 'relu'))\n",
    "model.add(Dropout(0.4))\n",
    "\n",
    "\n",
    "model.add(Dense(1,activation = 'sigmoid'))\n",
    "\n",
    "model.compile(loss = 'binary_crossentropy',optimizer = 'adam')\n"
   ]
  },
  {
   "cell_type": "code",
   "execution_count": 78,
   "id": "macro-switch",
   "metadata": {},
   "outputs": [
    {
     "name": "stdout",
     "output_type": "stream",
     "text": [
      "Epoch 1/500\n",
      "143/143 [==============================] - 0s 777us/step - loss: 0.7808 - val_loss: 0.6702\n",
      "Epoch 2/500\n",
      "143/143 [==============================] - 0s 423us/step - loss: 0.6816 - val_loss: 0.6443\n",
      "Epoch 3/500\n",
      "143/143 [==============================] - 0s 428us/step - loss: 0.6251 - val_loss: 0.6168\n",
      "Epoch 4/500\n",
      "143/143 [==============================] - 0s 420us/step - loss: 0.5998 - val_loss: 0.6207\n",
      "Epoch 5/500\n",
      "143/143 [==============================] - 0s 420us/step - loss: 0.5675 - val_loss: 0.6042\n",
      "Epoch 6/500\n",
      "143/143 [==============================] - 0s 425us/step - loss: 0.5683 - val_loss: 0.6091\n",
      "Epoch 7/500\n",
      "143/143 [==============================] - 0s 427us/step - loss: 0.5496 - val_loss: 0.5990\n",
      "Epoch 8/500\n",
      "143/143 [==============================] - 0s 461us/step - loss: 0.5145 - val_loss: 0.5850\n",
      "Epoch 9/500\n",
      "143/143 [==============================] - 0s 427us/step - loss: 0.5250 - val_loss: 0.5758\n",
      "Epoch 10/500\n",
      "143/143 [==============================] - 0s 449us/step - loss: 0.5037 - val_loss: 0.5834\n",
      "Epoch 11/500\n",
      "143/143 [==============================] - 0s 421us/step - loss: 0.4996 - val_loss: 0.5939\n",
      "Epoch 12/500\n",
      "143/143 [==============================] - 0s 427us/step - loss: 0.5078 - val_loss: 0.5941\n",
      "Epoch 13/500\n",
      "143/143 [==============================] - 0s 423us/step - loss: 0.4985 - val_loss: 0.5902\n",
      "Epoch 14/500\n",
      "143/143 [==============================] - 0s 419us/step - loss: 0.5028 - val_loss: 0.6066\n",
      "Epoch 00014: early stopping\n"
     ]
    },
    {
     "data": {
      "text/plain": [
       "<tensorflow.python.keras.callbacks.History at 0x29216fa30>"
      ]
     },
     "execution_count": 78,
     "metadata": {},
     "output_type": "execute_result"
    }
   ],
   "source": [
    "model.fit(x=X_train,y=y_train,epochs =500,validation_data = (X_test,y_test),callbacks = [early_stop])"
   ]
  },
  {
   "cell_type": "code",
   "execution_count": 79,
   "id": "several-vegetable",
   "metadata": {},
   "outputs": [
    {
     "data": {
      "text/plain": [
       "<AxesSubplot:>"
      ]
     },
     "execution_count": 79,
     "metadata": {},
     "output_type": "execute_result"
    },
    {
     "data": {
      "image/png": "[encoded data removed]",
      "text/plain": [
       "<Figure size 432x288 with 1 Axes>"
      ]
     },
     "metadata": {
      "needs_background": "light"
     },
     "output_type": "display_data"
    }
   ],
   "source": [
    "losses = pd.DataFrame(model.history.history)\n",
    "losses.plot()"
   ]
  },
  {
   "cell_type": "code",
   "execution_count": 80,
   "id": "patient-mexico",
   "metadata": {},
   "outputs": [
    {
     "name": "stderr",
     "output_type": "stream",
     "text": [
      "/Users/paultorres/miniforge3/envs/tf_env/lib/python3.8/site-packages/tensorflow/python/keras/engine/sequential.py:450: UserWarning: `model.predict_classes()` is deprecated and will be removed after 2021-01-01. Please use instead:* `np.argmax(model.predict(x), axis=-1)`,   if your model does multi-class classification   (e.g. if it uses a `softmax` last-layer activation).* `(model.predict(x) > 0.5).astype(\"int32\")`,   if your model does binary classification   (e.g. if it uses a `sigmoid` last-layer activation).\n",
      "  warnings.warn('`model.predict_classes()` is deprecated and '\n"
     ]
    }
   ],
   "source": [
    "y_pred = model.predict_classes(X_test)"
   ]
  },
  {
   "cell_type": "code",
   "execution_count": 81,
   "id": "convenient-connection",
   "metadata": {},
   "outputs": [],
   "source": [
    "from sklearn.metrics import classification_report, confusion_matrix"
   ]
  },
  {
   "cell_type": "code",
   "execution_count": 82,
   "id": "insured-accent",
   "metadata": {},
   "outputs": [
    {
     "name": "stdout",
     "output_type": "stream",
     "text": [
      "              precision    recall  f1-score   support\n",
      "\n",
      "           0       0.88      0.84      0.86       114\n",
      "           1       0.18      0.24      0.21        17\n",
      "\n",
      "    accuracy                           0.76       131\n",
      "   macro avg       0.53      0.54      0.53       131\n",
      "weighted avg       0.79      0.76      0.78       131\n",
      "\n"
     ]
    }
   ],
   "source": [
    "print(classification_report(y_test,y_pred))"
   ]
  },
  {
   "cell_type": "code",
   "execution_count": 83,
   "id": "historical-beads",
   "metadata": {},
   "outputs": [
    {
     "name": "stdout",
     "output_type": "stream",
     "text": [
      "[[96 18]\n",
      " [13  4]]\n"
     ]
    }
   ],
   "source": [
    "print(confusion_matrix(y_test,y_pred))"
   ]
  },
  {
   "cell_type": "code",
   "execution_count": null,
   "id": "attended-resident",
   "metadata": {},
   "outputs": [],
   "source": []
  }
 ],
 "metadata": {
  "kernelspec": {
   "display_name": "Python 3",
   "language": "python",
   "name": "python3"
  },
  "language_info": {
   "codemirror_mode": {
    "name": "ipython",
    "version": 3
   },
   "file_extension": ".py",
   "mimetype": "text/x-python",
   "name": "python",
   "nbconvert_exporter": "python",
   "pygments_lexer": "ipython3",
   "version": "3.8.6"
  }
 },
 "nbformat": 4,
 "nbformat_minor": 5
}
