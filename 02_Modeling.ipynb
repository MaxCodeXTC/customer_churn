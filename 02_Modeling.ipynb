{
 "cells": [
  {
   "cell_type": "code",
   "execution_count": 1,
   "metadata": {},
   "outputs": [
    {
     "name": "stdout",
     "output_type": "stream",
     "text": [
      "Packages loaded.\n"
     ]
    }
   ],
   "source": [
    "import pandas as pd\n",
    "import numpy as np\n",
    "import matplotlib.pyplot as plt\n",
    "import seaborn as sb\n",
    "from sklearn.preprocessing import OneHotEncoder\n",
    "\n",
    "%matplotlib inline\n",
    "\n",
    "import warnings\n",
    "warnings.filterwarnings(\"ignore\")\n",
    "\n",
    "pd.set_option('display.max_columns', None)\n",
    "\n",
    "print('Packages loaded.')"
   ]
  },
  {
   "cell_type": "code",
   "execution_count": 2,
   "metadata": {},
   "outputs": [],
   "source": [
    "from sklearn.tree import DecisionTreeClassifier\n",
    "from sklearn.model_selection import train_test_split"
   ]
  },
  {
   "cell_type": "code",
   "execution_count": 3,
   "metadata": {},
   "outputs": [],
   "source": [
    "df = pd.read_pickle('churn_data_clean.pkl')\n",
    "df['churn'] = df['churn'].astype(int, errors = 'ignore')\n"
   ]
  },
  {
   "cell_type": "code",
   "execution_count": 4,
   "metadata": {},
   "outputs": [
    {
     "name": "stdout",
     "output_type": "stream",
     "text": [
      "(3333, 23)\n"
     ]
    },
    {
     "data": {
      "text/html": [
       "<div>\n",
       "<style scoped>\n",
       "    .dataframe tbody tr th:only-of-type {\n",
       "        vertical-align: middle;\n",
       "    }\n",
       "\n",
       "    .dataframe tbody tr th {\n",
       "        vertical-align: top;\n",
       "    }\n",
       "\n",
       "    .dataframe thead th {\n",
       "        text-align: right;\n",
       "    }\n",
       "</style>\n",
       "<table border=\"1\" class=\"dataframe\">\n",
       "  <thead>\n",
       "    <tr style=\"text-align: right;\">\n",
       "      <th></th>\n",
       "      <th>account length</th>\n",
       "      <th>area code</th>\n",
       "      <th>international plan</th>\n",
       "      <th>voice mail plan</th>\n",
       "      <th>number vmail messages</th>\n",
       "      <th>total day minutes</th>\n",
       "      <th>total day calls</th>\n",
       "      <th>total eve minutes</th>\n",
       "      <th>total eve calls</th>\n",
       "      <th>total night minutes</th>\n",
       "      <th>total night calls</th>\n",
       "      <th>total intl minutes</th>\n",
       "      <th>total intl calls</th>\n",
       "      <th>customer service calls</th>\n",
       "      <th>churn</th>\n",
       "      <th>total_minutes</th>\n",
       "      <th>night_perc</th>\n",
       "      <th>eve_perc</th>\n",
       "      <th>total_calls</th>\n",
       "      <th>night_owl</th>\n",
       "      <th>day_only</th>\n",
       "      <th>traveler</th>\n",
       "      <th>eve_only</th>\n",
       "    </tr>\n",
       "  </thead>\n",
       "  <tbody>\n",
       "    <tr>\n",
       "      <th>0</th>\n",
       "      <td>128</td>\n",
       "      <td>415</td>\n",
       "      <td>no</td>\n",
       "      <td>yes</td>\n",
       "      <td>25</td>\n",
       "      <td>265.1</td>\n",
       "      <td>110</td>\n",
       "      <td>197.4</td>\n",
       "      <td>99</td>\n",
       "      <td>244.7</td>\n",
       "      <td>91</td>\n",
       "      <td>10.0</td>\n",
       "      <td>3</td>\n",
       "      <td>1</td>\n",
       "      <td>0</td>\n",
       "      <td>717.2</td>\n",
       "      <td>0.341188</td>\n",
       "      <td>0.275237</td>\n",
       "      <td>303</td>\n",
       "      <td>0</td>\n",
       "      <td>1</td>\n",
       "      <td>0</td>\n",
       "      <td>0</td>\n",
       "    </tr>\n",
       "    <tr>\n",
       "      <th>1</th>\n",
       "      <td>107</td>\n",
       "      <td>415</td>\n",
       "      <td>no</td>\n",
       "      <td>yes</td>\n",
       "      <td>26</td>\n",
       "      <td>161.6</td>\n",
       "      <td>123</td>\n",
       "      <td>195.5</td>\n",
       "      <td>103</td>\n",
       "      <td>254.4</td>\n",
       "      <td>103</td>\n",
       "      <td>13.7</td>\n",
       "      <td>3</td>\n",
       "      <td>1</td>\n",
       "      <td>0</td>\n",
       "      <td>625.2</td>\n",
       "      <td>0.406910</td>\n",
       "      <td>0.312700</td>\n",
       "      <td>332</td>\n",
       "      <td>1</td>\n",
       "      <td>0</td>\n",
       "      <td>1</td>\n",
       "      <td>0</td>\n",
       "    </tr>\n",
       "    <tr>\n",
       "      <th>2</th>\n",
       "      <td>137</td>\n",
       "      <td>415</td>\n",
       "      <td>no</td>\n",
       "      <td>no</td>\n",
       "      <td>0</td>\n",
       "      <td>243.4</td>\n",
       "      <td>114</td>\n",
       "      <td>121.2</td>\n",
       "      <td>110</td>\n",
       "      <td>162.6</td>\n",
       "      <td>104</td>\n",
       "      <td>12.2</td>\n",
       "      <td>5</td>\n",
       "      <td>0</td>\n",
       "      <td>0</td>\n",
       "      <td>539.4</td>\n",
       "      <td>0.301446</td>\n",
       "      <td>0.224694</td>\n",
       "      <td>333</td>\n",
       "      <td>0</td>\n",
       "      <td>1</td>\n",
       "      <td>1</td>\n",
       "      <td>0</td>\n",
       "    </tr>\n",
       "    <tr>\n",
       "      <th>3</th>\n",
       "      <td>84</td>\n",
       "      <td>408</td>\n",
       "      <td>yes</td>\n",
       "      <td>no</td>\n",
       "      <td>0</td>\n",
       "      <td>299.4</td>\n",
       "      <td>71</td>\n",
       "      <td>61.9</td>\n",
       "      <td>88</td>\n",
       "      <td>196.9</td>\n",
       "      <td>89</td>\n",
       "      <td>6.6</td>\n",
       "      <td>7</td>\n",
       "      <td>2</td>\n",
       "      <td>0</td>\n",
       "      <td>564.8</td>\n",
       "      <td>0.348619</td>\n",
       "      <td>0.109596</td>\n",
       "      <td>255</td>\n",
       "      <td>0</td>\n",
       "      <td>1</td>\n",
       "      <td>0</td>\n",
       "      <td>0</td>\n",
       "    </tr>\n",
       "    <tr>\n",
       "      <th>4</th>\n",
       "      <td>75</td>\n",
       "      <td>415</td>\n",
       "      <td>yes</td>\n",
       "      <td>no</td>\n",
       "      <td>0</td>\n",
       "      <td>166.7</td>\n",
       "      <td>113</td>\n",
       "      <td>148.3</td>\n",
       "      <td>122</td>\n",
       "      <td>186.9</td>\n",
       "      <td>121</td>\n",
       "      <td>10.1</td>\n",
       "      <td>3</td>\n",
       "      <td>3</td>\n",
       "      <td>0</td>\n",
       "      <td>512.0</td>\n",
       "      <td>0.365039</td>\n",
       "      <td>0.289648</td>\n",
       "      <td>359</td>\n",
       "      <td>0</td>\n",
       "      <td>0</td>\n",
       "      <td>1</td>\n",
       "      <td>0</td>\n",
       "    </tr>\n",
       "  </tbody>\n",
       "</table>\n",
       "</div>"
      ],
      "text/plain": [
       "   account length area code international plan voice mail plan  \\\n",
       "0             128       415                 no             yes   \n",
       "1             107       415                 no             yes   \n",
       "2             137       415                 no              no   \n",
       "3              84       408                yes              no   \n",
       "4              75       415                yes              no   \n",
       "\n",
       "   number vmail messages  total day minutes  total day calls  \\\n",
       "0                     25              265.1              110   \n",
       "1                     26              161.6              123   \n",
       "2                      0              243.4              114   \n",
       "3                      0              299.4               71   \n",
       "4                      0              166.7              113   \n",
       "\n",
       "   total eve minutes  total eve calls  total night minutes  total night calls  \\\n",
       "0              197.4               99                244.7                 91   \n",
       "1              195.5              103                254.4                103   \n",
       "2              121.2              110                162.6                104   \n",
       "3               61.9               88                196.9                 89   \n",
       "4              148.3              122                186.9                121   \n",
       "\n",
       "   total intl minutes  total intl calls  customer service calls  churn  \\\n",
       "0                10.0                 3                       1      0   \n",
       "1                13.7                 3                       1      0   \n",
       "2                12.2                 5                       0      0   \n",
       "3                 6.6                 7                       2      0   \n",
       "4                10.1                 3                       3      0   \n",
       "\n",
       "   total_minutes  night_perc  eve_perc  total_calls night_owl day_only  \\\n",
       "0          717.2    0.341188  0.275237          303         0        1   \n",
       "1          625.2    0.406910  0.312700          332         1        0   \n",
       "2          539.4    0.301446  0.224694          333         0        1   \n",
       "3          564.8    0.348619  0.109596          255         0        1   \n",
       "4          512.0    0.365039  0.289648          359         0        0   \n",
       "\n",
       "  traveler eve_only  \n",
       "0        0        0  \n",
       "1        1        0  \n",
       "2        1        0  \n",
       "3        0        0  \n",
       "4        1        0  "
      ]
     },
     "execution_count": 4,
     "metadata": {},
     "output_type": "execute_result"
    }
   ],
   "source": [
    "print(df.shape)\n",
    "df.head()"
   ]
  },
  {
   "cell_type": "code",
   "execution_count": 5,
   "metadata": {},
   "outputs": [
    {
     "data": {
      "text/plain": [
       "0    2850\n",
       "1     483\n",
       "Name: churn, dtype: int64"
      ]
     },
     "execution_count": 5,
     "metadata": {},
     "output_type": "execute_result"
    }
   ],
   "source": [
    "df.churn.value_counts()"
   ]
  },
  {
   "cell_type": "code",
   "execution_count": 6,
   "metadata": {},
   "outputs": [
    {
     "data": {
      "text/html": [
       "<div>\n",
       "<style scoped>\n",
       "    .dataframe tbody tr th:only-of-type {\n",
       "        vertical-align: middle;\n",
       "    }\n",
       "\n",
       "    .dataframe tbody tr th {\n",
       "        vertical-align: top;\n",
       "    }\n",
       "\n",
       "    .dataframe thead th {\n",
       "        text-align: right;\n",
       "    }\n",
       "</style>\n",
       "<table border=\"1\" class=\"dataframe\">\n",
       "  <thead>\n",
       "    <tr style=\"text-align: right;\">\n",
       "      <th></th>\n",
       "      <th>count</th>\n",
       "      <th>unique</th>\n",
       "      <th>top</th>\n",
       "      <th>freq</th>\n",
       "      <th>mean</th>\n",
       "      <th>std</th>\n",
       "      <th>min</th>\n",
       "      <th>25%</th>\n",
       "      <th>50%</th>\n",
       "      <th>75%</th>\n",
       "      <th>max</th>\n",
       "    </tr>\n",
       "  </thead>\n",
       "  <tbody>\n",
       "    <tr>\n",
       "      <th>account length</th>\n",
       "      <td>3333.0</td>\n",
       "      <td>NaN</td>\n",
       "      <td>NaN</td>\n",
       "      <td>NaN</td>\n",
       "      <td>101.064806</td>\n",
       "      <td>39.822106</td>\n",
       "      <td>1.0</td>\n",
       "      <td>74.0</td>\n",
       "      <td>101.0</td>\n",
       "      <td>127.0</td>\n",
       "      <td>243.0</td>\n",
       "    </tr>\n",
       "    <tr>\n",
       "      <th>area code</th>\n",
       "      <td>3333</td>\n",
       "      <td>3</td>\n",
       "      <td>415</td>\n",
       "      <td>1655</td>\n",
       "      <td>NaN</td>\n",
       "      <td>NaN</td>\n",
       "      <td>NaN</td>\n",
       "      <td>NaN</td>\n",
       "      <td>NaN</td>\n",
       "      <td>NaN</td>\n",
       "      <td>NaN</td>\n",
       "    </tr>\n",
       "    <tr>\n",
       "      <th>international plan</th>\n",
       "      <td>3333</td>\n",
       "      <td>2</td>\n",
       "      <td>no</td>\n",
       "      <td>3010</td>\n",
       "      <td>NaN</td>\n",
       "      <td>NaN</td>\n",
       "      <td>NaN</td>\n",
       "      <td>NaN</td>\n",
       "      <td>NaN</td>\n",
       "      <td>NaN</td>\n",
       "      <td>NaN</td>\n",
       "    </tr>\n",
       "    <tr>\n",
       "      <th>voice mail plan</th>\n",
       "      <td>3333</td>\n",
       "      <td>2</td>\n",
       "      <td>no</td>\n",
       "      <td>2411</td>\n",
       "      <td>NaN</td>\n",
       "      <td>NaN</td>\n",
       "      <td>NaN</td>\n",
       "      <td>NaN</td>\n",
       "      <td>NaN</td>\n",
       "      <td>NaN</td>\n",
       "      <td>NaN</td>\n",
       "    </tr>\n",
       "    <tr>\n",
       "      <th>number vmail messages</th>\n",
       "      <td>3333.0</td>\n",
       "      <td>NaN</td>\n",
       "      <td>NaN</td>\n",
       "      <td>NaN</td>\n",
       "      <td>8.09901</td>\n",
       "      <td>13.688365</td>\n",
       "      <td>0.0</td>\n",
       "      <td>0.0</td>\n",
       "      <td>0.0</td>\n",
       "      <td>20.0</td>\n",
       "      <td>51.0</td>\n",
       "    </tr>\n",
       "    <tr>\n",
       "      <th>total day minutes</th>\n",
       "      <td>3333.0</td>\n",
       "      <td>NaN</td>\n",
       "      <td>NaN</td>\n",
       "      <td>NaN</td>\n",
       "      <td>179.775098</td>\n",
       "      <td>54.467389</td>\n",
       "      <td>0.0</td>\n",
       "      <td>143.7</td>\n",
       "      <td>179.4</td>\n",
       "      <td>216.4</td>\n",
       "      <td>350.8</td>\n",
       "    </tr>\n",
       "    <tr>\n",
       "      <th>total day calls</th>\n",
       "      <td>3333.0</td>\n",
       "      <td>NaN</td>\n",
       "      <td>NaN</td>\n",
       "      <td>NaN</td>\n",
       "      <td>100.435644</td>\n",
       "      <td>20.069084</td>\n",
       "      <td>0.0</td>\n",
       "      <td>87.0</td>\n",
       "      <td>101.0</td>\n",
       "      <td>114.0</td>\n",
       "      <td>165.0</td>\n",
       "    </tr>\n",
       "    <tr>\n",
       "      <th>total eve minutes</th>\n",
       "      <td>3333.0</td>\n",
       "      <td>NaN</td>\n",
       "      <td>NaN</td>\n",
       "      <td>NaN</td>\n",
       "      <td>200.980348</td>\n",
       "      <td>50.713844</td>\n",
       "      <td>0.0</td>\n",
       "      <td>166.6</td>\n",
       "      <td>201.4</td>\n",
       "      <td>235.3</td>\n",
       "      <td>363.7</td>\n",
       "    </tr>\n",
       "    <tr>\n",
       "      <th>total eve calls</th>\n",
       "      <td>3333.0</td>\n",
       "      <td>NaN</td>\n",
       "      <td>NaN</td>\n",
       "      <td>NaN</td>\n",
       "      <td>100.114311</td>\n",
       "      <td>19.922625</td>\n",
       "      <td>0.0</td>\n",
       "      <td>87.0</td>\n",
       "      <td>100.0</td>\n",
       "      <td>114.0</td>\n",
       "      <td>170.0</td>\n",
       "    </tr>\n",
       "    <tr>\n",
       "      <th>total night minutes</th>\n",
       "      <td>3333.0</td>\n",
       "      <td>NaN</td>\n",
       "      <td>NaN</td>\n",
       "      <td>NaN</td>\n",
       "      <td>200.872037</td>\n",
       "      <td>50.573847</td>\n",
       "      <td>23.2</td>\n",
       "      <td>167.0</td>\n",
       "      <td>201.2</td>\n",
       "      <td>235.3</td>\n",
       "      <td>395.0</td>\n",
       "    </tr>\n",
       "    <tr>\n",
       "      <th>total night calls</th>\n",
       "      <td>3333.0</td>\n",
       "      <td>NaN</td>\n",
       "      <td>NaN</td>\n",
       "      <td>NaN</td>\n",
       "      <td>100.107711</td>\n",
       "      <td>19.568609</td>\n",
       "      <td>33.0</td>\n",
       "      <td>87.0</td>\n",
       "      <td>100.0</td>\n",
       "      <td>113.0</td>\n",
       "      <td>175.0</td>\n",
       "    </tr>\n",
       "    <tr>\n",
       "      <th>total intl minutes</th>\n",
       "      <td>3333.0</td>\n",
       "      <td>NaN</td>\n",
       "      <td>NaN</td>\n",
       "      <td>NaN</td>\n",
       "      <td>10.237294</td>\n",
       "      <td>2.79184</td>\n",
       "      <td>0.0</td>\n",
       "      <td>8.5</td>\n",
       "      <td>10.3</td>\n",
       "      <td>12.1</td>\n",
       "      <td>20.0</td>\n",
       "    </tr>\n",
       "    <tr>\n",
       "      <th>total intl calls</th>\n",
       "      <td>3333.0</td>\n",
       "      <td>NaN</td>\n",
       "      <td>NaN</td>\n",
       "      <td>NaN</td>\n",
       "      <td>4.479448</td>\n",
       "      <td>2.461214</td>\n",
       "      <td>0.0</td>\n",
       "      <td>3.0</td>\n",
       "      <td>4.0</td>\n",
       "      <td>6.0</td>\n",
       "      <td>20.0</td>\n",
       "    </tr>\n",
       "    <tr>\n",
       "      <th>customer service calls</th>\n",
       "      <td>3333.0</td>\n",
       "      <td>NaN</td>\n",
       "      <td>NaN</td>\n",
       "      <td>NaN</td>\n",
       "      <td>1.562856</td>\n",
       "      <td>1.315491</td>\n",
       "      <td>0.0</td>\n",
       "      <td>1.0</td>\n",
       "      <td>1.0</td>\n",
       "      <td>2.0</td>\n",
       "      <td>9.0</td>\n",
       "    </tr>\n",
       "    <tr>\n",
       "      <th>churn</th>\n",
       "      <td>3333.0</td>\n",
       "      <td>NaN</td>\n",
       "      <td>NaN</td>\n",
       "      <td>NaN</td>\n",
       "      <td>0.144914</td>\n",
       "      <td>0.352067</td>\n",
       "      <td>0.0</td>\n",
       "      <td>0.0</td>\n",
       "      <td>0.0</td>\n",
       "      <td>0.0</td>\n",
       "      <td>1.0</td>\n",
       "    </tr>\n",
       "    <tr>\n",
       "      <th>total_minutes</th>\n",
       "      <td>3333.0</td>\n",
       "      <td>NaN</td>\n",
       "      <td>NaN</td>\n",
       "      <td>NaN</td>\n",
       "      <td>591.864776</td>\n",
       "      <td>89.954251</td>\n",
       "      <td>284.3</td>\n",
       "      <td>531.5</td>\n",
       "      <td>593.6</td>\n",
       "      <td>652.4</td>\n",
       "      <td>885.0</td>\n",
       "    </tr>\n",
       "    <tr>\n",
       "      <th>night_perc</th>\n",
       "      <td>3333.0</td>\n",
       "      <td>NaN</td>\n",
       "      <td>NaN</td>\n",
       "      <td>NaN</td>\n",
       "      <td>0.340088</td>\n",
       "      <td>0.073889</td>\n",
       "      <td>0.064177</td>\n",
       "      <td>0.291169</td>\n",
       "      <td>0.339629</td>\n",
       "      <td>0.389643</td>\n",
       "      <td>0.660385</td>\n",
       "    </tr>\n",
       "    <tr>\n",
       "      <th>eve_perc</th>\n",
       "      <td>3333.0</td>\n",
       "      <td>NaN</td>\n",
       "      <td>NaN</td>\n",
       "      <td>NaN</td>\n",
       "      <td>0.34011</td>\n",
       "      <td>0.074022</td>\n",
       "      <td>0.0</td>\n",
       "      <td>0.291941</td>\n",
       "      <td>0.339044</td>\n",
       "      <td>0.387396</td>\n",
       "      <td>0.647786</td>\n",
       "    </tr>\n",
       "    <tr>\n",
       "      <th>total_calls</th>\n",
       "      <td>3333.0</td>\n",
       "      <td>NaN</td>\n",
       "      <td>NaN</td>\n",
       "      <td>NaN</td>\n",
       "      <td>305.137114</td>\n",
       "      <td>34.448164</td>\n",
       "      <td>191.0</td>\n",
       "      <td>282.0</td>\n",
       "      <td>305.0</td>\n",
       "      <td>328.0</td>\n",
       "      <td>416.0</td>\n",
       "    </tr>\n",
       "    <tr>\n",
       "      <th>night_owl</th>\n",
       "      <td>3333</td>\n",
       "      <td>2</td>\n",
       "      <td>0</td>\n",
       "      <td>2200</td>\n",
       "      <td>NaN</td>\n",
       "      <td>NaN</td>\n",
       "      <td>NaN</td>\n",
       "      <td>NaN</td>\n",
       "      <td>NaN</td>\n",
       "      <td>NaN</td>\n",
       "      <td>NaN</td>\n",
       "    </tr>\n",
       "    <tr>\n",
       "      <th>day_only</th>\n",
       "      <td>3333</td>\n",
       "      <td>2</td>\n",
       "      <td>0</td>\n",
       "      <td>2200</td>\n",
       "      <td>NaN</td>\n",
       "      <td>NaN</td>\n",
       "      <td>NaN</td>\n",
       "      <td>NaN</td>\n",
       "      <td>NaN</td>\n",
       "      <td>NaN</td>\n",
       "      <td>NaN</td>\n",
       "    </tr>\n",
       "    <tr>\n",
       "      <th>traveler</th>\n",
       "      <td>3333</td>\n",
       "      <td>2</td>\n",
       "      <td>0</td>\n",
       "      <td>2200</td>\n",
       "      <td>NaN</td>\n",
       "      <td>NaN</td>\n",
       "      <td>NaN</td>\n",
       "      <td>NaN</td>\n",
       "      <td>NaN</td>\n",
       "      <td>NaN</td>\n",
       "      <td>NaN</td>\n",
       "    </tr>\n",
       "    <tr>\n",
       "      <th>eve_only</th>\n",
       "      <td>3333</td>\n",
       "      <td>2</td>\n",
       "      <td>0</td>\n",
       "      <td>2200</td>\n",
       "      <td>NaN</td>\n",
       "      <td>NaN</td>\n",
       "      <td>NaN</td>\n",
       "      <td>NaN</td>\n",
       "      <td>NaN</td>\n",
       "      <td>NaN</td>\n",
       "      <td>NaN</td>\n",
       "    </tr>\n",
       "  </tbody>\n",
       "</table>\n",
       "</div>"
      ],
      "text/plain": [
       "                         count unique  top  freq        mean        std  \\\n",
       "account length          3333.0    NaN  NaN   NaN  101.064806  39.822106   \n",
       "area code                 3333      3  415  1655         NaN        NaN   \n",
       "international plan        3333      2   no  3010         NaN        NaN   \n",
       "voice mail plan           3333      2   no  2411         NaN        NaN   \n",
       "number vmail messages   3333.0    NaN  NaN   NaN     8.09901  13.688365   \n",
       "total day minutes       3333.0    NaN  NaN   NaN  179.775098  54.467389   \n",
       "total day calls         3333.0    NaN  NaN   NaN  100.435644  20.069084   \n",
       "total eve minutes       3333.0    NaN  NaN   NaN  200.980348  50.713844   \n",
       "total eve calls         3333.0    NaN  NaN   NaN  100.114311  19.922625   \n",
       "total night minutes     3333.0    NaN  NaN   NaN  200.872037  50.573847   \n",
       "total night calls       3333.0    NaN  NaN   NaN  100.107711  19.568609   \n",
       "total intl minutes      3333.0    NaN  NaN   NaN   10.237294    2.79184   \n",
       "total intl calls        3333.0    NaN  NaN   NaN    4.479448   2.461214   \n",
       "customer service calls  3333.0    NaN  NaN   NaN    1.562856   1.315491   \n",
       "churn                   3333.0    NaN  NaN   NaN    0.144914   0.352067   \n",
       "total_minutes           3333.0    NaN  NaN   NaN  591.864776  89.954251   \n",
       "night_perc              3333.0    NaN  NaN   NaN    0.340088   0.073889   \n",
       "eve_perc                3333.0    NaN  NaN   NaN     0.34011   0.074022   \n",
       "total_calls             3333.0    NaN  NaN   NaN  305.137114  34.448164   \n",
       "night_owl                 3333      2    0  2200         NaN        NaN   \n",
       "day_only                  3333      2    0  2200         NaN        NaN   \n",
       "traveler                  3333      2    0  2200         NaN        NaN   \n",
       "eve_only                  3333      2    0  2200         NaN        NaN   \n",
       "\n",
       "                             min       25%       50%       75%       max  \n",
       "account length               1.0      74.0     101.0     127.0     243.0  \n",
       "area code                    NaN       NaN       NaN       NaN       NaN  \n",
       "international plan           NaN       NaN       NaN       NaN       NaN  \n",
       "voice mail plan              NaN       NaN       NaN       NaN       NaN  \n",
       "number vmail messages        0.0       0.0       0.0      20.0      51.0  \n",
       "total day minutes            0.0     143.7     179.4     216.4     350.8  \n",
       "total day calls              0.0      87.0     101.0     114.0     165.0  \n",
       "total eve minutes            0.0     166.6     201.4     235.3     363.7  \n",
       "total eve calls              0.0      87.0     100.0     114.0     170.0  \n",
       "total night minutes         23.2     167.0     201.2     235.3     395.0  \n",
       "total night calls           33.0      87.0     100.0     113.0     175.0  \n",
       "total intl minutes           0.0       8.5      10.3      12.1      20.0  \n",
       "total intl calls             0.0       3.0       4.0       6.0      20.0  \n",
       "customer service calls       0.0       1.0       1.0       2.0       9.0  \n",
       "churn                        0.0       0.0       0.0       0.0       1.0  \n",
       "total_minutes              284.3     531.5     593.6     652.4     885.0  \n",
       "night_perc              0.064177  0.291169  0.339629  0.389643  0.660385  \n",
       "eve_perc                     0.0  0.291941  0.339044  0.387396  0.647786  \n",
       "total_calls                191.0     282.0     305.0     328.0     416.0  \n",
       "night_owl                    NaN       NaN       NaN       NaN       NaN  \n",
       "day_only                     NaN       NaN       NaN       NaN       NaN  \n",
       "traveler                     NaN       NaN       NaN       NaN       NaN  \n",
       "eve_only                     NaN       NaN       NaN       NaN       NaN  "
      ]
     },
     "execution_count": 6,
     "metadata": {},
     "output_type": "execute_result"
    }
   ],
   "source": [
    "df.describe(include = 'all').transpose()"
   ]
  },
  {
   "cell_type": "code",
   "execution_count": 7,
   "metadata": {},
   "outputs": [
    {
     "data": {
      "image/png": "[encoded data removed]",
      "text/plain": [
       "<Figure size 432x288 with 1 Axes>"
      ]
     },
     "metadata": {
      "needs_background": "light"
     },
     "output_type": "display_data"
    }
   ],
   "source": [
    "plt.hist(df['account length'], bins = 70)\n",
    "plt.show()"
   ]
  },
  {
   "cell_type": "code",
   "execution_count": 8,
   "metadata": {},
   "outputs": [],
   "source": [
    "features = ['account length', 'area code', 'international plan',\n",
    "       'voice mail plan', 'number vmail messages', 'total day minutes',\n",
    "       'total day calls', 'total eve minutes', 'total eve calls',\n",
    "       'total night minutes', 'total night calls', 'total intl minutes',\n",
    "       'total intl calls', 'customer service calls',\n",
    "       'total_minutes', 'night_perc', 'eve_perc', 'total_calls']"
   ]
  },
  {
   "cell_type": "code",
   "execution_count": 9,
   "metadata": {},
   "outputs": [],
   "source": [
    "X = df[features]\n",
    "y = df['churn']\n",
    "\n",
    "X_train, X_test, y_train, y_test = train_test_split(X, y, random_state = 8, test_size = 0.2)\n"
   ]
  },
  {
   "cell_type": "code",
   "execution_count": 10,
   "metadata": {},
   "outputs": [],
   "source": [
    "# at this point I will standardize all of the training data and then create a pipeline for that as well\n",
    "\n",
    "X_train.head()\n",
    "\n",
    "cat_lst = ['area code','international plan','voice mail plan']\n",
    "con_lst = [x for x in X_train.columns.values if x not in cat_lst]\n"
   ]
  },
  {
   "cell_type": "code",
   "execution_count": 11,
   "metadata": {},
   "outputs": [
    {
     "data": {
      "text/plain": [
       "['area code', 'international plan', 'voice mail plan']"
      ]
     },
     "execution_count": 11,
     "metadata": {},
     "output_type": "execute_result"
    }
   ],
   "source": [
    "cat_lst"
   ]
  },
  {
   "cell_type": "code",
   "execution_count": 12,
   "metadata": {},
   "outputs": [
    {
     "data": {
      "text/plain": [
       "account length            0\n",
       "area code                 0\n",
       "international plan        0\n",
       "voice mail plan           0\n",
       "number vmail messages     0\n",
       "total day minutes         0\n",
       "total day calls           0\n",
       "total eve minutes         0\n",
       "total eve calls           0\n",
       "total night minutes       0\n",
       "total night calls         0\n",
       "total intl minutes        0\n",
       "total intl calls          0\n",
       "customer service calls    0\n",
       "total_minutes             0\n",
       "night_perc                0\n",
       "eve_perc                  0\n",
       "total_calls               0\n",
       "dtype: int64"
      ]
     },
     "execution_count": 12,
     "metadata": {},
     "output_type": "execute_result"
    }
   ],
   "source": [
    "X_train.isna().sum()"
   ]
  },
  {
   "cell_type": "code",
   "execution_count": 14,
   "metadata": {},
   "outputs": [],
   "source": [
    "import helpers"
   ]
  },
  {
   "cell_type": "code",
   "execution_count": 15,
   "metadata": {},
   "outputs": [],
   "source": [
    "X_train_enc, X_test_enc = helpers.prepare_inputs(X_train, X_test,cat_lst)"
   ]
  },
  {
   "cell_type": "code",
   "execution_count": null,
   "metadata": {},
   "outputs": [],
   "source": []
  },
  {
   "cell_type": "markdown",
   "metadata": {},
   "source": [
    "### Dummy Classifier"
   ]
  },
  {
   "cell_type": "code",
   "execution_count": 35,
   "metadata": {},
   "outputs": [],
   "source": [
    "from sklearn.metrics import f1_score, balanced_accuracy_score, plot_confusion_matrix, classification_report"
   ]
  },
  {
   "cell_type": "code",
   "execution_count": 36,
   "metadata": {},
   "outputs": [],
   "source": [
    "#keeping score\n",
    "score_keeper = {}"
   ]
  },
  {
   "cell_type": "code",
   "execution_count": 37,
   "metadata": {},
   "outputs": [
    {
     "name": "stdout",
     "output_type": "stream",
     "text": [
      "Test F1 score:  0.74 / Test Accuracy:  0.491\n"
     ]
    }
   ],
   "source": [
    "from sklearn.dummy import DummyClassifier\n",
    "dummy_strat = DummyClassifier(strategy = 'stratified') # using the default stratified strategy\n",
    "dummy_strat.fit(X_train_ohe, y_train)\n",
    "y_pred = dummy_strat.predict(X_test)\n",
    "\n",
    "f1_test = round(f1_score(y_test, y_pred, average = 'weighted'), 3)\n",
    "acc_test = round(balanced_accuracy_score(y_test, y_pred), 3)\n",
    "print('Test F1 score: ', f1_test, '/ Test Accuracy: ', acc_test)\n",
    "score_keeper['baseline_strat'] = (f1_test, acc_test)"
   ]
  },
  {
   "cell_type": "code",
   "execution_count": 38,
   "metadata": {},
   "outputs": [
    {
     "name": "stdout",
     "output_type": "stream",
     "text": [
      "              precision    recall  f1-score   support\n",
      "\n",
      "           0       0.85      0.84      0.85       568\n",
      "           1       0.13      0.14      0.14        99\n",
      "\n",
      "    accuracy                           0.74       667\n",
      "   macro avg       0.49      0.49      0.49       667\n",
      "weighted avg       0.74      0.74      0.74       667\n",
      "\n"
     ]
    },
    {
     "data": {
      "image/png": "[encoded data removed]",
      "text/plain": [
       "<Figure size 432x288 with 2 Axes>"
      ]
     },
     "metadata": {
      "needs_background": "light"
     },
     "output_type": "display_data"
    }
   ],
   "source": [
    "plot_confusion_matrix(dummy_strat, X_test_ohe, y_test, xticks_rotation = 'vertical', cmap = plt.cm.Blues)\n",
    "print(classification_report(y_test, y_pred))"
   ]
  },
  {
   "cell_type": "code",
   "execution_count": 39,
   "metadata": {},
   "outputs": [
    {
     "name": "stdout",
     "output_type": "stream",
     "text": [
      "Test F1 score:  0.783 / Test Accuracy:  0.5\n"
     ]
    }
   ],
   "source": [
    "from sklearn.dummy import DummyClassifier\n",
    "dummyc = DummyClassifier(strategy = 'constant', constant = 0) # using the default stratified strategy\n",
    "dummyc.fit(X_train_ohe, y_train)\n",
    "y_pred = dummyc.predict(X_test)\n",
    "\n",
    "f1_test = round(f1_score(y_test, y_pred, average = 'weighted'), 3)\n",
    "acc_test = round(balanced_accuracy_score(y_test, y_pred), 3)\n",
    "print('Test F1 score: ', f1_test, '/ Test Accuracy: ', acc_test)\n",
    "score_keeper['baseline_strat'] = (f1_test, acc_test)"
   ]
  },
  {
   "cell_type": "code",
   "execution_count": 22,
   "metadata": {},
   "outputs": [
    {
     "name": "stdout",
     "output_type": "stream",
     "text": [
      "              precision    recall  f1-score   support\n",
      "\n",
      "           0       0.85      1.00      0.92       568\n",
      "           1       0.00      0.00      0.00        99\n",
      "\n",
      "    accuracy                           0.85       667\n",
      "   macro avg       0.43      0.50      0.46       667\n",
      "weighted avg       0.73      0.85      0.78       667\n",
      "\n"
     ]
    },
    {
     "data": {
      "image/png": "[encoded data removed]",
      "text/plain": [
       "<Figure size 432x288 with 2 Axes>"
      ]
     },
     "metadata": {
      "needs_background": "light"
     },
     "output_type": "display_data"
    }
   ],
   "source": [
    "plot_confusion_matrix(dummyc, X_test_ohe, y_test, xticks_rotation = 'vertical', cmap = plt.cm.Blues)\n",
    "print(classification_report(y_test, y_pred))"
   ]
  },
  {
   "cell_type": "markdown",
   "metadata": {},
   "source": [
    "# SMOTE\n",
    "The class imblance mean we will need to use an oversampling method. SMOTE will synthetically create new observations of the minority class."
   ]
  },
  {
   "cell_type": "code",
   "execution_count": 32,
   "metadata": {},
   "outputs": [],
   "source": [
    "from imblearn.over_sampling import SMOTE\n",
    "smote = SMOTE()\n",
    "X_train_res, y_train_res = smote.fit_resample(X_train_ohe, y_train)"
   ]
  },
  {
   "cell_type": "code",
   "execution_count": 33,
   "metadata": {},
   "outputs": [],
   "source": [
    "from sklearn.preprocessing import StandardScaler\n",
    "\n",
    "scale = StandardScaler()\n",
    "X_train_scaled = scale.fit_transform(X_train_ohe)\n",
    "X_test_scaled = scale.transform(X_test_ohe)\n",
    "\n",
    "X_train_res_scaled = scale.fit_transform(X_train_res)"
   ]
  },
  {
   "cell_type": "code",
   "execution_count": null,
   "metadata": {},
   "outputs": [],
   "source": []
  },
  {
   "cell_type": "code",
   "execution_count": null,
   "metadata": {},
   "outputs": [],
   "source": []
  },
  {
   "cell_type": "code",
   "execution_count": null,
   "metadata": {},
   "outputs": [],
   "source": []
  },
  {
   "cell_type": "markdown",
   "metadata": {},
   "source": [
    "### Create a Pipeline"
   ]
  },
  {
   "cell_type": "code",
   "execution_count": null,
   "metadata": {},
   "outputs": [],
   "source": []
  },
  {
   "cell_type": "code",
   "execution_count": null,
   "metadata": {},
   "outputs": [],
   "source": []
  },
  {
   "cell_type": "code",
   "execution_count": null,
   "metadata": {},
   "outputs": [],
   "source": []
  },
  {
   "cell_type": "code",
   "execution_count": null,
   "metadata": {},
   "outputs": [],
   "source": []
  },
  {
   "cell_type": "code",
   "execution_count": 29,
   "metadata": {},
   "outputs": [],
   "source": [
    "from sklearn.pipeline import Pipeline\n",
    "from sklearn.linear_model import LogisticRegression\n",
    "from sklearn.preprocessing import MinMaxScaler\n",
    "\n",
    "pipe = Pipeline([('mms', MinMaxScaler()),\n",
    "                 ('logreg', LogisticRegression(random_state=8))])"
   ]
  },
  {
   "cell_type": "code",
   "execution_count": null,
   "metadata": {},
   "outputs": [],
   "source": []
  },
  {
   "cell_type": "code",
   "execution_count": null,
   "metadata": {},
   "outputs": [],
   "source": []
  },
  {
   "cell_type": "code",
   "execution_count": null,
   "metadata": {},
   "outputs": [],
   "source": []
  },
  {
   "cell_type": "code",
   "execution_count": null,
   "metadata": {},
   "outputs": [],
   "source": []
  },
  {
   "cell_type": "code",
   "execution_count": null,
   "metadata": {},
   "outputs": [],
   "source": []
  },
  {
   "cell_type": "code",
   "execution_count": null,
   "metadata": {},
   "outputs": [],
   "source": []
  },
  {
   "cell_type": "code",
   "execution_count": null,
   "metadata": {},
   "outputs": [],
   "source": []
  },
  {
   "cell_type": "code",
   "execution_count": null,
   "metadata": {},
   "outputs": [],
   "source": []
  },
  {
   "cell_type": "code",
   "execution_count": null,
   "metadata": {},
   "outputs": [],
   "source": []
  },
  {
   "cell_type": "code",
   "execution_count": null,
   "metadata": {},
   "outputs": [],
   "source": []
  },
  {
   "cell_type": "code",
   "execution_count": null,
   "metadata": {},
   "outputs": [],
   "source": []
  },
  {
   "cell_type": "code",
   "execution_count": null,
   "metadata": {},
   "outputs": [],
   "source": []
  },
  {
   "cell_type": "code",
   "execution_count": null,
   "metadata": {},
   "outputs": [],
   "source": []
  },
  {
   "cell_type": "code",
   "execution_count": null,
   "metadata": {},
   "outputs": [],
   "source": []
  },
  {
   "cell_type": "code",
   "execution_count": null,
   "metadata": {},
   "outputs": [],
   "source": []
  }
 ],
 "metadata": {
  "kernelspec": {
   "display_name": "Python 3",
   "language": "python",
   "name": "python3"
  },
  "language_info": {
   "codemirror_mode": {
    "name": "ipython",
    "version": 3
   },
   "file_extension": ".py",
   "mimetype": "text/x-python",
   "name": "python",
   "nbconvert_exporter": "python",
   "pygments_lexer": "ipython3",
   "version": "3.9.2"
  }
 },
 "nbformat": 4,
 "nbformat_minor": 4
}
